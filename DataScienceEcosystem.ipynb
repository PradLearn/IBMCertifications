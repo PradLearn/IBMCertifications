{
 "cells": [
  {
   "cell_type": "markdown",
   "id": "0d8e9dfe-aeed-414e-9aac-d9b703c9e4cd",
   "metadata": {},
   "source": [
    "#Data Science Tools and Ecosystem"
   ]
  },
  {
   "cell_type": "markdown",
   "id": "812c1808-fd9b-4ae5-9a64-1fd165a3d71a",
   "metadata": {},
   "source": [
    "#In this notebook, Data Science Tools and Ecosystem are summarized."
   ]
  },
  {
   "cell_type": "markdown",
   "id": "2b10e58d-0a7b-431d-a2d2-829eaeb00647",
   "metadata": {},
   "source": [
    "Some of the popular languages that Data Scientists use are:\n",
    "1. Python\n",
    "2. R\n",
    "3. SQL"
   ]
  },
  {
   "cell_type": "markdown",
   "id": "b22f757a-c215-4cb8-8f38-d8a5cdf187de",
   "metadata": {},
   "source": [
    "Some of the commonly used libraries used by Data Scientists include:\n",
    "1. Tensorflow\n",
    "2. pytorch\n",
    "3. scipy\n",
    "4. numpy"
   ]
  },
  {
   "cell_type": "markdown",
   "id": "f67c180c-e1f8-41a6-9e81-ddaa7c65ccf3",
   "metadata": {},
   "source": [
    "## Data Science Tools"
   ]
  },
  {
   "cell_type": "markdown",
   "id": "9c5a2c75-efb4-4e3b-8263-074a97627fcf",
   "metadata": {},
   "source": [
    "| ## Data Science Tools | \n",
    "|:---------|\n",
    "|  Tensorflow  | \n",
    "|  Rstudio  | \n",
    "|  Apache spark  | \n"
   ]
  },
  {
   "cell_type": "markdown",
   "id": "6486c5af-6156-4967-9981-9f56cdf0e2e9",
   "metadata": {},
   "source": [
    "<h3>Below are a few examples of evaluating arithmetic expressions in Python<h3>"
   ]
  },
  {
   "cell_type": "markdown",
   "id": "18198c6d-1182-483c-a813-f60b43547dd3",
   "metadata": {},
   "source": [
    "(3*4)+5"
   ]
  },
  {
   "cell_type": "code",
   "execution_count": 10,
   "id": "3928b353-01f2-4e23-97fa-6f9b032ef8d1",
   "metadata": {},
   "outputs": [
    {
     "data": {
      "text/plain": [
       "3.3333333333333335"
      ]
     },
     "execution_count": 10,
     "metadata": {},
     "output_type": "execute_result"
    }
   ],
   "source": [
    "200/60"
   ]
  },
  {
   "cell_type": "markdown",
   "id": "46320d23-2d88-4d03-b66b-7417fc56880b",
   "metadata": {},
   "source": [
    "<h3>objectives<h3>\n",
    " "
   ]
  },
  {
   "cell_type": "markdown",
   "id": "1271ac05-5fc1-41e7-8906-8d631b5e6d92",
   "metadata": {},
   "source": [
    "- list the pupulat languages in Datascien\n",
    "- list the common library used in data science\n",
    "- list the data science tools used in data science\n",
    "   \n",
    " \n"
   ]
  },
  {
   "cell_type": "markdown",
   "id": "6b0b238d-a0ff-4bd2-bd0c-cccb5fb477ab",
   "metadata": {},
   "source": [
    "Author : Pradeepa"
   ]
  }
 ],
 "metadata": {
  "kernelspec": {
   "display_name": "Python 3 (ipykernel)",
   "language": "python",
   "name": "python3"
  },
  "language_info": {
   "codemirror_mode": {
    "name": "ipython",
    "version": 3
   },
   "file_extension": ".py",
   "mimetype": "text/x-python",
   "name": "python",
   "nbconvert_exporter": "python",
   "pygments_lexer": "ipython3",
   "version": "3.11.7"
  }
 },
 "nbformat": 4,
 "nbformat_minor": 5
}
